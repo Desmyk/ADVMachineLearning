{
  "nbformat": 4,
  "nbformat_minor": 0,
  "metadata": {
    "colab": {
      "provenance": [],
      "authorship_tag": "ABX9TyN2zpASqijeOjfXG1eRNYH2",
      "include_colab_link": true
    },
    "kernelspec": {
      "name": "python3",
      "display_name": "Python 3"
    },
    "language_info": {
      "name": "python"
    }
  },
  "cells": [
    {
      "cell_type": "markdown",
      "metadata": {
        "id": "view-in-github",
        "colab_type": "text"
      },
      "source": [
        "<a href=\"https://colab.research.google.com/github/Desmyk/ADVMachineLearning/blob/main/Capstone_DeepL.ipynb\" target=\"_parent\"><img src=\"https://colab.research.google.com/assets/colab-badge.svg\" alt=\"Open In Colab\"/></a>"
      ]
    },
    {
      "cell_type": "code",
      "execution_count": 2,
      "metadata": {
        "id": "iW54fxCe2Dsa"
      },
      "outputs": [],
      "source": [
        "# import necessary libraries\n",
        "\n",
        "import os\n",
        "import pandas as pd\n",
        "import tensorflow as tf\n",
        "import matplotlib.pyplot as plt\n",
        "import numpy as np\n",
        "import cv2\n",
        "from tensorflow.keras.applications import VGG16\n",
        "from tensorflow.keras.layers import Conv2D, MaxPooling2D, Flatten, Dense\n",
        "from tensorflow.keras.models import Model\n",
        "from tensorflow.keras.optimizers import Adam\n",
        "from tensorflow.keras.losses import CategoricalCrossentropy\n",
        "from tensorflow.keras.metrics import CategoricalAccuracy"
      ]
    },
    {
      "cell_type": "code",
      "source": [
        "!mkdir -p ~/.kaggle\n",
        "!mv kaggle.json ~/.kaggle/\n",
        "!chmod 600 ~/.kaggle/kaggle.json\n",
        "!kaggle datasets download -d abdallahalidev/plantvillage-dataset"
      ],
      "metadata": {
        "colab": {
          "base_uri": "https://localhost:8080/"
        },
        "id": "WjGDSlNE7M56",
        "outputId": "0f83fba5-d849-4a95-d7d8-a645cd20213c"
      },
      "execution_count": 2,
      "outputs": [
        {
          "output_type": "stream",
          "name": "stdout",
          "text": [
            "mv: cannot stat 'kaggle.json': No such file or directory\n",
            "chmod: cannot access '/root/.kaggle/kaggle.json': No such file or directory\n",
            "Dataset URL: https://www.kaggle.com/datasets/abdallahalidev/plantvillage-dataset\n",
            "License(s): CC-BY-NC-SA-4.0\n",
            "Downloading plantvillage-dataset.zip to /content\n",
            " 99% 2.02G/2.04G [00:23<00:00, 142MB/s]\n",
            "100% 2.04G/2.04G [00:23<00:00, 92.8MB/s]\n"
          ]
        }
      ]
    },
    {
      "cell_type": "code",
      "source": [
        "# unzip dataset\n",
        "!unzip -q plantvillage-dataset.zip"
      ],
      "metadata": {
        "id": "VSZCD2Ig9F3j"
      },
      "execution_count": 3,
      "outputs": []
    },
    {
      "cell_type": "code",
      "source": [
        "\n",
        "# Load the dataset\n",
        "dataset = '/content/plantvillage dataset'\n"
      ],
      "metadata": {
        "id": "V0_RcdaF2KQ_"
      },
      "execution_count": 3,
      "outputs": []
    },
    {
      "cell_type": "code",
      "source": [
        "# Plot the class distribution\n",
        "dataset = tf.keras.preprocessing.image_dataset_from_directory(\n",
        "    '/content/plantvillage dataset',\n",
        "    labels='inferred',\n",
        "    label_mode='categorical',\n",
        "    batch_size=32,\n",
        "    image_size=(224, 224)\n",
        ")\n",
        "\n",
        "class_names = dataset.class_names\n",
        "num_classes = len(class_names)\n",
        "class_weights = {i: 1.0 for i in range(num_classes)}\n",
        "\n",
        "plt.barh(class_names, class_weights.values())\n",
        "plt.xlabel('Class')\n",
        "plt.ylabel('Weight')\n",
        "plt.title('Class Distribution')\n",
        "plt.show()"
      ],
      "metadata": {
        "colab": {
          "base_uri": "https://localhost:8080/",
          "height": 489
        },
        "id": "z5Qc5KcTJZq3",
        "outputId": "5efd4e95-47a2-49f2-c142-c364e1980823"
      },
      "execution_count": 4,
      "outputs": [
        {
          "output_type": "stream",
          "name": "stdout",
          "text": [
            "Found 162916 files belonging to 3 classes.\n"
          ]
        },
        {
          "output_type": "display_data",
          "data": {
            "text/plain": [
              "<Figure size 640x480 with 1 Axes>"
            ],
            "image/png": "[encoded data removed]"
          },
          "metadata": {}
        }
      ]
    },
    {
      "cell_type": "code",
      "source": [
        "# Normalize the pixel values\n",
        "# We normalize pixel values of the images to the range [0, 1].\n",
        "\n",
        "dataset = dataset.map(lambda x, y: (x / 255.0, y))\n",
        "\n",
        "# The transformation divides each pixel value by 255 to normalize it to the range [0, 1]"
      ],
      "metadata": {
        "id": "yOJfkwgOMDLz"
      },
      "execution_count": 8,
      "outputs": []
    },
    {
      "cell_type": "code",
      "source": [
        "# We apply data augmentation techniques to increase diversity of the set\n",
        "\n",
        "# Apply data augmentation\n",
        "dataset = dataset.map(lambda x, y: (tf.image.random_flip_left_right(x), y))\n",
        "dataset = dataset.map(lambda x, y: (tf.image.random_brightness(x, 0.2), y))\n",
        "dataset = dataset.map(lambda x, y: (tf.image.random_contrast(x, lower=0.8, upper=1.2), y))\n",
        "\n",
        "# The map function is used to apply a transformation to each element of the dataset\n",
        "# The lambda function is used to define the transformation\n",
        "# The transformation applies random flipping, brightness, and contrast to the images"
      ],
      "metadata": {
        "id": "yhW9jmvyMz1W"
      },
      "execution_count": 10,
      "outputs": []
    },
    {
      "cell_type": "code",
      "source": [
        "# Let's develop a deepL model for wheat detection & disease classification\n",
        "\n",
        "# Define the model architecture\n",
        "base_model = tf.keras.applications.VGG16(weights='imagenet', include_top=False, input_shape=(224, 224, 3))\n",
        "\n",
        "# Freeze the base model layers\n",
        "for layer in base_model.layers:\n",
        "    layer.trainable = False\n",
        "\n",
        "# Add custom layers\n",
        "# The Conv2D layer is used to add a convolutional layer\n",
        "# The MaxPooling2D layer is used to add a max pooling layer\n",
        "# The Flatten layer is used to flatten the output of the convolutional and pooling layers\n",
        "# The Dense layer is used to add a dense layer\n",
        "\n",
        "x = base_model.output\n",
        "x = tf.keras.layers.Conv2D(512, (3, 3), activation='relu')(x)\n",
        "x = tf.keras.layers.MaxPooling2D((2, 2))(x)\n",
        "x = tf.keras.layers.Flatten()(x)\n",
        "x = tf.keras.layers.Dense(128, activation='relu')(x)\n",
        "x = tf.keras.layers.Dense(3, activation='softmax')(x)\n",
        "\n",
        "# Create the model\n",
        "model = tf.keras.Model(inputs=base_model.input, outputs=x)"
      ],
      "metadata": {
        "id": "SG5rRAk4NXv4"
      },
      "execution_count": 14,
      "outputs": []
    },
    {
      "cell_type": "code",
      "source": [
        "# compile the model with the Adam optimizer\n",
        "# and categorical cross-entropy loss function.\n",
        "\n",
        "model.compile(optimizer=Adam(learning_rate=0.001),\n",
        "              loss=CategoricalCrossentropy(),\n",
        "              metrics=[CategoricalAccuracy()])"
      ],
      "metadata": {
        "id": "bk_XYXZiN0Ws"
      },
      "execution_count": 15,
      "outputs": []
    },
    {
      "cell_type": "code",
      "source": [
        "# We now can train model\n",
        "\n",
        "# Train the model\n",
        "model.fit(dataset, epochs=50, batch_size=32)"
      ],
      "metadata": {
        "colab": {
          "base_uri": "https://localhost:8080/"
        },
        "id": "Jyirl8U9OMKI",
        "outputId": "7ab98319-6787-4b7b-9e83-75483afa2851"
      },
      "execution_count": null,
      "outputs": [
        {
          "output_type": "stream",
          "name": "stdout",
          "text": [
            "Epoch 1/50\n",
            "\u001b[1m 284/5092\u001b[0m \u001b[32m━\u001b[0m\u001b[37m━━━━━━━━━━━━━━━━━━━\u001b[0m \u001b[1m23:42:44\u001b[0m 18s/step - categorical_accuracy: 0.3269 - loss: 1.1841"
          ]
        }
      ]
    },
    {
      "cell_type": "code",
      "source": [
        "# We evaluate the performance of the model using the test dataset.\n",
        "\n",
        "# Evaluate the model\n",
        "test_loss, test_acc = model.evaluate(dataset)\n",
        "print('Test accuracy:', test_acc)"
      ],
      "metadata": {
        "id": "Q9AcpXMBPqps"
      },
      "execution_count": null,
      "outputs": []
    },
    {
      "cell_type": "code",
      "source": [],
      "metadata": {
        "id": "C_EoQjcC2Ku7"
      },
      "execution_count": null,
      "outputs": []
    }
  ]
}